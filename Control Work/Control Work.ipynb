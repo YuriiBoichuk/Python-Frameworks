{
 "cells": [
  {
   "cell_type": "code",
   "execution_count": 13,
   "metadata": {},
   "outputs": [],
   "source": [
    "import numpy as np\n",
    "import pandas as pd"
   ]
  },
  {
   "cell_type": "markdown",
   "metadata": {},
   "source": [
    "# Завдання №1"
   ]
  },
  {
   "cell_type": "markdown",
   "metadata": {},
   "source": [
    "## df1"
   ]
  },
  {
   "cell_type": "code",
   "execution_count": 58,
   "metadata": {},
   "outputs": [],
   "source": [
    "model_list = ['Ciaz', 'Alto 800', 'Polo GTI', 'Passat', 'Civic', 'CR-V']"
   ]
  },
  {
   "cell_type": "code",
   "execution_count": 65,
   "metadata": {},
   "outputs": [
    {
     "data": {
      "text/html": [
       "<div>\n",
       "<style scoped>\n",
       "    .dataframe tbody tr th:only-of-type {\n",
       "        vertical-align: middle;\n",
       "    }\n",
       "\n",
       "    .dataframe tbody tr th {\n",
       "        vertical-align: top;\n",
       "    }\n",
       "\n",
       "    .dataframe thead tr th {\n",
       "        text-align: left;\n",
       "    }\n",
       "\n",
       "    .dataframe thead tr:last-of-type th {\n",
       "        text-align: right;\n",
       "    }\n",
       "</style>\n",
       "<table border=\"1\" class=\"dataframe\">\n",
       "  <thead>\n",
       "    <tr>\n",
       "      <th></th>\n",
       "      <th></th>\n",
       "      <th>Car</th>\n",
       "    </tr>\n",
       "    <tr>\n",
       "      <th>Firm</th>\n",
       "      <th>Engine</th>\n",
       "      <th></th>\n",
       "    </tr>\n",
       "  </thead>\n",
       "  <tbody>\n",
       "    <tr>\n",
       "      <th rowspan=\"2\" valign=\"top\">Suzuki</th>\n",
       "      <th>g</th>\n",
       "      <td>Ciaz</td>\n",
       "    </tr>\n",
       "    <tr>\n",
       "      <th>g</th>\n",
       "      <td>Alto 800</td>\n",
       "    </tr>\n",
       "    <tr>\n",
       "      <th rowspan=\"2\" valign=\"top\">Volkswagen</th>\n",
       "      <th>g</th>\n",
       "      <td>Polo GTI</td>\n",
       "    </tr>\n",
       "    <tr>\n",
       "      <th>d</th>\n",
       "      <td>Passat</td>\n",
       "    </tr>\n",
       "    <tr>\n",
       "      <th rowspan=\"2\" valign=\"top\">Honda</th>\n",
       "      <th>g</th>\n",
       "      <td>Civic</td>\n",
       "    </tr>\n",
       "    <tr>\n",
       "      <th>d</th>\n",
       "      <td>CR-V</td>\n",
       "    </tr>\n",
       "  </tbody>\n",
       "</table>\n",
       "</div>"
      ],
      "text/plain": [
       "                        Car\n",
       "Firm       Engine          \n",
       "Suzuki     g           Ciaz\n",
       "           g       Alto 800\n",
       "Volkswagen g       Polo GTI\n",
       "           d         Passat\n",
       "Honda      g          Civic\n",
       "           d           CR-V"
      ]
     },
     "execution_count": 65,
     "metadata": {},
     "output_type": "execute_result"
    }
   ],
   "source": [
    "index = [('Suzuki', 'g'), ('Suzuki', 'g'),\n",
    "       ('Volkswagen', 'g'), ('Volkswagen', 'd'), \n",
    "       ('Honda', 'g'), ('Honda', 'd')]\n",
    "columns = pd.MultiIndex.from_product([['Car']])\n",
    "index = pd.MultiIndex.from_tuples(index, names= ['Firm', 'Engine'])\n",
    "df1 = pd.DataFrame(model_list, index=index, columns=columns)\n",
    "df1"
   ]
  },
  {
   "cell_type": "markdown",
   "metadata": {},
   "source": [
    "## df2"
   ]
  },
  {
   "cell_type": "code",
   "execution_count": 17,
   "metadata": {},
   "outputs": [],
   "source": [
    "car_type_dict = {'Ciaz': 'Sedan',\n",
    "'Alto 800': 'Hatchback',\n",
    "'Polo GTI': 'Hatchback',\n",
    "'Passat': 'Sedan',\n",
    "'Civic': 'Coupe',\n",
    "'CR-V': 'SUV'}\n",
    "df2_car_type = pd.Series(car_type_dict)"
   ]
  },
  {
   "cell_type": "code",
   "execution_count": 18,
   "metadata": {},
   "outputs": [],
   "source": [
    "length_dict = {'Ciaz': 4900,\n",
    "'Alto 800': 4502,\n",
    "'Polo GTI': 4680,\n",
    "'Passat': 4400,\n",
    "'Civic': 4380,\n",
    "'CR-V': 4920}\n",
    "df2_length = pd.Series(length_dict)"
   ]
  },
  {
   "cell_type": "code",
   "execution_count": 19,
   "metadata": {},
   "outputs": [],
   "source": [
    "width_dict = {'Ciaz': 1800,\n",
    "'Alto 800': 1600,\n",
    "'Polo GTI': 1793,\n",
    "'Passat': 1600,\n",
    "'Civic': 1767,\n",
    "'CR-V': 1796}\n",
    "df2_width = pd.Series(width_dict)"
   ]
  },
  {
   "cell_type": "code",
   "execution_count": 20,
   "metadata": {},
   "outputs": [
    {
     "data": {
      "text/html": [
       "<div>\n",
       "<style scoped>\n",
       "    .dataframe tbody tr th:only-of-type {\n",
       "        vertical-align: middle;\n",
       "    }\n",
       "\n",
       "    .dataframe tbody tr th {\n",
       "        vertical-align: top;\n",
       "    }\n",
       "\n",
       "    .dataframe thead th {\n",
       "        text-align: right;\n",
       "    }\n",
       "</style>\n",
       "<table border=\"1\" class=\"dataframe\">\n",
       "  <thead>\n",
       "    <tr style=\"text-align: right;\">\n",
       "      <th></th>\n",
       "      <th>Type</th>\n",
       "      <th>Length</th>\n",
       "      <th>Width</th>\n",
       "    </tr>\n",
       "  </thead>\n",
       "  <tbody>\n",
       "    <tr>\n",
       "      <th>Ciaz</th>\n",
       "      <td>Sedan</td>\n",
       "      <td>4900</td>\n",
       "      <td>1800</td>\n",
       "    </tr>\n",
       "    <tr>\n",
       "      <th>Alto 800</th>\n",
       "      <td>Hatchback</td>\n",
       "      <td>4502</td>\n",
       "      <td>1600</td>\n",
       "    </tr>\n",
       "    <tr>\n",
       "      <th>Polo GTI</th>\n",
       "      <td>Hatchback</td>\n",
       "      <td>4680</td>\n",
       "      <td>1793</td>\n",
       "    </tr>\n",
       "    <tr>\n",
       "      <th>Passat</th>\n",
       "      <td>Sedan</td>\n",
       "      <td>4400</td>\n",
       "      <td>1600</td>\n",
       "    </tr>\n",
       "    <tr>\n",
       "      <th>Civic</th>\n",
       "      <td>Coupe</td>\n",
       "      <td>4380</td>\n",
       "      <td>1767</td>\n",
       "    </tr>\n",
       "    <tr>\n",
       "      <th>CR-V</th>\n",
       "      <td>SUV</td>\n",
       "      <td>4920</td>\n",
       "      <td>1796</td>\n",
       "    </tr>\n",
       "  </tbody>\n",
       "</table>\n",
       "</div>"
      ],
      "text/plain": [
       "               Type  Length  Width\n",
       "Ciaz          Sedan    4900   1800\n",
       "Alto 800  Hatchback    4502   1600\n",
       "Polo GTI  Hatchback    4680   1793\n",
       "Passat        Sedan    4400   1600\n",
       "Civic         Coupe    4380   1767\n",
       "CR-V            SUV    4920   1796"
      ]
     },
     "execution_count": 20,
     "metadata": {},
     "output_type": "execute_result"
    }
   ],
   "source": [
    "df2 = pd.DataFrame({'Type': df2_car_type,\n",
    "                    'Length': df2_length,\n",
    "                    'Width': df2_width})\n",
    "df2"
   ]
  },
  {
   "cell_type": "markdown",
   "metadata": {},
   "source": [
    "# Завдання №2"
   ]
  },
  {
   "cell_type": "code",
   "execution_count": null,
   "metadata": {},
   "outputs": [],
   "source": []
  }
 ],
 "metadata": {
  "kernelspec": {
   "display_name": "Python 3",
   "language": "python",
   "name": "python3"
  },
  "language_info": {
   "codemirror_mode": {
    "name": "ipython",
    "version": 3
   },
   "file_extension": ".py",
   "mimetype": "text/x-python",
   "name": "python",
   "nbconvert_exporter": "python",
   "pygments_lexer": "ipython3",
   "version": "3.8.3"
  }
 },
 "nbformat": 4,
 "nbformat_minor": 4
}
