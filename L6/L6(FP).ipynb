{
 "cells": [
  {
   "cell_type": "markdown",
   "metadata": {},
   "source": [
    "# Лабораторна робота №6"
   ]
  },
  {
   "cell_type": "markdown",
   "metadata": {},
   "source": [
    "# Варіант 1"
   ]
  },
  {
   "cell_type": "markdown",
   "metadata": {},
   "source": [
    "## Завдання №1\n",
    "Завантажте набір даних books.csv.\n",
    "### Код завдання:"
   ]
  },
  {
   "cell_type": "code",
   "execution_count": 6,
   "metadata": {
    "scrolled": true
   },
   "outputs": [
    {
     "data": {
      "text/html": [
       "<div>\n",
       "<style scoped>\n",
       "    .dataframe tbody tr th:only-of-type {\n",
       "        vertical-align: middle;\n",
       "    }\n",
       "\n",
       "    .dataframe tbody tr th {\n",
       "        vertical-align: top;\n",
       "    }\n",
       "\n",
       "    .dataframe thead th {\n",
       "        text-align: right;\n",
       "    }\n",
       "</style>\n",
       "<table border=\"1\" class=\"dataframe\">\n",
       "  <thead>\n",
       "    <tr style=\"text-align: right;\">\n",
       "      <th></th>\n",
       "      <th>Title</th>\n",
       "      <th>Author</th>\n",
       "      <th>Genre</th>\n",
       "      <th>SubGenre</th>\n",
       "      <th>Height</th>\n",
       "      <th>Publisher</th>\n",
       "    </tr>\n",
       "  </thead>\n",
       "  <tbody>\n",
       "    <tr>\n",
       "      <th>0</th>\n",
       "      <td>Fundamentals of Wavelets</td>\n",
       "      <td>Goswami, Jaideva</td>\n",
       "      <td>tech</td>\n",
       "      <td>signal_processing</td>\n",
       "      <td>228</td>\n",
       "      <td>Wiley</td>\n",
       "    </tr>\n",
       "    <tr>\n",
       "      <th>1</th>\n",
       "      <td>Data Smart</td>\n",
       "      <td>Foreman, John</td>\n",
       "      <td>tech</td>\n",
       "      <td>data_science</td>\n",
       "      <td>235</td>\n",
       "      <td>Wiley</td>\n",
       "    </tr>\n",
       "    <tr>\n",
       "      <th>2</th>\n",
       "      <td>God Created the Integers</td>\n",
       "      <td>Hawking, Stephen</td>\n",
       "      <td>tech</td>\n",
       "      <td>mathematics</td>\n",
       "      <td>197</td>\n",
       "      <td>Penguin</td>\n",
       "    </tr>\n",
       "    <tr>\n",
       "      <th>3</th>\n",
       "      <td>Superfreakonomics</td>\n",
       "      <td>Dubner, Stephen</td>\n",
       "      <td>science</td>\n",
       "      <td>economics</td>\n",
       "      <td>179</td>\n",
       "      <td>HarperCollins</td>\n",
       "    </tr>\n",
       "    <tr>\n",
       "      <th>4</th>\n",
       "      <td>Orientalism</td>\n",
       "      <td>Said, Edward</td>\n",
       "      <td>nonfiction</td>\n",
       "      <td>history</td>\n",
       "      <td>197</td>\n",
       "      <td>Penguin</td>\n",
       "    </tr>\n",
       "    <tr>\n",
       "      <th>...</th>\n",
       "      <td>...</td>\n",
       "      <td>...</td>\n",
       "      <td>...</td>\n",
       "      <td>...</td>\n",
       "      <td>...</td>\n",
       "      <td>...</td>\n",
       "    </tr>\n",
       "    <tr>\n",
       "      <th>206</th>\n",
       "      <td>Structure and Randomness</td>\n",
       "      <td>Tao, Terence</td>\n",
       "      <td>science</td>\n",
       "      <td>mathematics</td>\n",
       "      <td>252</td>\n",
       "      <td>NaN</td>\n",
       "    </tr>\n",
       "    <tr>\n",
       "      <th>207</th>\n",
       "      <td>Image Processing with MATLAB</td>\n",
       "      <td>Eddins, Steve</td>\n",
       "      <td>tech</td>\n",
       "      <td>signal_processing</td>\n",
       "      <td>241</td>\n",
       "      <td>NaN</td>\n",
       "    </tr>\n",
       "    <tr>\n",
       "      <th>208</th>\n",
       "      <td>Animal Farm</td>\n",
       "      <td>Orwell, George</td>\n",
       "      <td>fiction</td>\n",
       "      <td>classic</td>\n",
       "      <td>180</td>\n",
       "      <td>NaN</td>\n",
       "    </tr>\n",
       "    <tr>\n",
       "      <th>209</th>\n",
       "      <td>Idiot, The</td>\n",
       "      <td>Dostoevsky, Fyodor</td>\n",
       "      <td>fiction</td>\n",
       "      <td>classic</td>\n",
       "      <td>197</td>\n",
       "      <td>NaN</td>\n",
       "    </tr>\n",
       "    <tr>\n",
       "      <th>210</th>\n",
       "      <td>Christmas Carol, A</td>\n",
       "      <td>Dickens, Charles</td>\n",
       "      <td>fiction</td>\n",
       "      <td>classic</td>\n",
       "      <td>196</td>\n",
       "      <td>NaN</td>\n",
       "    </tr>\n",
       "  </tbody>\n",
       "</table>\n",
       "<p>211 rows × 6 columns</p>\n",
       "</div>"
      ],
      "text/plain": [
       "                            Title              Author       Genre  \\\n",
       "0        Fundamentals of Wavelets    Goswami, Jaideva        tech   \n",
       "1                      Data Smart       Foreman, John        tech   \n",
       "2        God Created the Integers    Hawking, Stephen        tech   \n",
       "3               Superfreakonomics     Dubner, Stephen     science   \n",
       "4                     Orientalism        Said, Edward  nonfiction   \n",
       "..                            ...                 ...         ...   \n",
       "206      Structure and Randomness        Tao, Terence     science   \n",
       "207  Image Processing with MATLAB       Eddins, Steve        tech   \n",
       "208                   Animal Farm      Orwell, George     fiction   \n",
       "209                    Idiot, The  Dostoevsky, Fyodor     fiction   \n",
       "210            Christmas Carol, A    Dickens, Charles     fiction   \n",
       "\n",
       "              SubGenre  Height      Publisher  \n",
       "0    signal_processing     228          Wiley  \n",
       "1         data_science     235          Wiley  \n",
       "2          mathematics     197        Penguin  \n",
       "3            economics     179  HarperCollins  \n",
       "4              history     197        Penguin  \n",
       "..                 ...     ...            ...  \n",
       "206        mathematics     252            NaN  \n",
       "207  signal_processing     241            NaN  \n",
       "208            classic     180            NaN  \n",
       "209            classic     197            NaN  \n",
       "210            classic     196            NaN  \n",
       "\n",
       "[211 rows x 6 columns]"
      ]
     },
     "execution_count": 6,
     "metadata": {},
     "output_type": "execute_result"
    }
   ],
   "source": [
    "import pandas as pd\n",
    "import re\n",
    "\n",
    "books = pd.read_csv('books.csv')\n",
    "books"
   ]
  },
  {
   "cell_type": "markdown",
   "metadata": {},
   "source": [
    "## Завдання №2\n",
    "Створіть новий стовпець \"WordsInTitle\" із кількістю слів у заголовку.\n",
    "### Код завдання:"
   ]
  },
  {
   "cell_type": "markdown",
   "metadata": {},
   "source": [
    "## Завдання №3\n",
    "Знайдіть автора в імені або прізвищі якого э 3 приголосні поспіль.\n",
    "### Код завдання:"
   ]
  },
  {
   "cell_type": "markdown",
   "metadata": {},
   "source": [
    "## Завдання №4\n",
    "Знайдіть прізвище автора книги з найдовшою назвою.\n",
    "### Код завдання:"
   ]
  },
  {
   "cell_type": "markdown",
   "metadata": {},
   "source": [
    "## Завдання №5\n",
    "Знайдіть книги, у яких першою літерою другого слова в назві є \"С\".\n",
    "### Код завдання:"
   ]
  },
  {
   "cell_type": "markdown",
   "metadata": {},
   "source": [
    "## Завдання №6\n",
    "Знайдіть книги, де в назві є слово, що складається із однієї букви.\n",
    "### Код завдання:"
   ]
  },
  {
   "cell_type": "markdown",
   "metadata": {},
   "source": [
    "## Завдання №7\n",
    "Створіть новий DataFrame з усіма книгами, де в назві є цифри.\n",
    "### Код завдання:"
   ]
  },
  {
   "cell_type": "markdown",
   "metadata": {},
   "source": [
    "## Завдання №8\n",
    "В датафреймі, створеному в попередньому завданні створіть новий\n",
    "стовпець, з числами, що є в назві. Якщо в назві декілька цифр,\n",
    "об’єднайте їх за допомогою „+“ (наприклад, „39 +1“).\n",
    "### Код завдання:"
   ]
  },
  {
   "cell_type": "code",
   "execution_count": null,
   "metadata": {},
   "outputs": [],
   "source": []
  }
 ],
 "metadata": {
  "kernelspec": {
   "display_name": "Python 3",
   "language": "python",
   "name": "python3"
  },
  "language_info": {
   "codemirror_mode": {
    "name": "ipython",
    "version": 3
   },
   "file_extension": ".py",
   "mimetype": "text/x-python",
   "name": "python",
   "nbconvert_exporter": "python",
   "pygments_lexer": "ipython3",
   "version": "3.8.3"
  }
 },
 "nbformat": 4,
 "nbformat_minor": 4
}
